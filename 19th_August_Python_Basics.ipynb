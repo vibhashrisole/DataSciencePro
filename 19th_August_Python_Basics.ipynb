{
  "nbformat": 4,
  "nbformat_minor": 0,
  "metadata": {
    "colab": {
      "provenance": []
    },
    "kernelspec": {
      "name": "python3",
      "display_name": "Python 3"
    },
    "language_info": {
      "name": "python"
    }
  },
  "cells": [
    {
      "cell_type": "code",
      "source": [
        "#Python Basic Variables:\n",
        "#Que:1\n",
        "\n",
        "x=10\n",
        "y=20\n",
        "\n",
        "x, y = y, x\n",
        "\n",
        "print('x= ',x)\n",
        "print('y= ',y)"
      ],
      "metadata": {
        "colab": {
          "base_uri": "https://localhost:8080/"
        },
        "id": "ITZdw9MZ3YPq",
        "outputId": "060e083f-a382-4504-cd75-388895cebf98"
      },
      "execution_count": null,
      "outputs": [
        {
          "output_type": "stream",
          "name": "stdout",
          "text": [
            "x=  20\n",
            "y=  10\n"
          ]
        }
      ]
    },
    {
      "cell_type": "code",
      "source": [
        "#Que:2\n",
        "\n",
        "l=float(input(\"Enter length: \"))\n",
        "w=float(input(\"Enter width: \"))\n",
        "area=l*w\n",
        "print(\"Area of rectangle: \",area)"
      ],
      "metadata": {
        "id": "yFUM7vyR5Hcz",
        "colab": {
          "base_uri": "https://localhost:8080/"
        },
        "outputId": "e022598a-02a7-46ba-9dfb-9454c2be7663"
      },
      "execution_count": 1,
      "outputs": [
        {
          "output_type": "stream",
          "name": "stdout",
          "text": [
            "Enter length: 6.8\n",
            "Enter width: 7.5\n",
            "Area of rectangle:  51.0\n"
          ]
        }
      ]
    },
    {
      "cell_type": "code",
      "source": [
        "#Que:3\n",
        "\n",
        "c=float(input(\"Enter temperature in celsius: \"))\n",
        "f=(c*9/5)+32                                         #formula to convert celsius to fahrenheit\n",
        "result=print(\"Temperature in Fahrenheit is: \",f)\n",
        "\n"
      ],
      "metadata": {
        "id": "BiDaLeEp6JU2",
        "colab": {
          "base_uri": "https://localhost:8080/"
        },
        "outputId": "182689b0-65f5-44a1-dcd6-f3a52e25331d"
      },
      "execution_count": 2,
      "outputs": [
        {
          "output_type": "stream",
          "name": "stdout",
          "text": [
            "Enter temperature in celsius: 13\n",
            "Temperature in Fahrenheit is:  55.4\n"
          ]
        }
      ]
    },
    {
      "cell_type": "code",
      "source": [
        "#String:\n",
        "#Que 1:\n",
        "\n",
        "str=input(\"Enter String: \")\n",
        "print(\"Length of string is: \",len(str))\n"
      ],
      "metadata": {
        "id": "eABOf_YH7WRx",
        "colab": {
          "base_uri": "https://localhost:8080/"
        },
        "outputId": "cc574725-e938-4493-aaff-70bd1a6195de"
      },
      "execution_count": 7,
      "outputs": [
        {
          "output_type": "stream",
          "name": "stdout",
          "text": [
            "Enter String: pwskills\n",
            "Length of string is:  8\n"
          ]
        }
      ]
    },
    {
      "cell_type": "code",
      "source": [
        "#Que 2:\n",
        "vowel=0\n",
        "str1=input(\"Enter String: \")\n",
        "for i in str1:\n",
        "  if(i=='a' or i=='e' or i=='i' or i=='o' or i=='u' or i=='A' or i=='E' or i=='I' or i=='O' or i=='U'):\n",
        "   vowel=vowel+1                                   #as index no. starts from 0, to get correct count 1 is added.\n",
        "print(\"Number of vowels are: \", vowel)\n"
      ],
      "metadata": {
        "colab": {
          "base_uri": "https://localhost:8080/"
        },
        "id": "3idSuqSFxtN1",
        "outputId": "5f3ac5e2-8543-4100-87e0-44d2a794d0a8"
      },
      "execution_count": 14,
      "outputs": [
        {
          "output_type": "stream",
          "name": "stdout",
          "text": [
            "Enter String: Python\n",
            "Number of vowels are:  1\n"
          ]
        }
      ]
    },
    {
      "cell_type": "code",
      "source": [
        "#Que 3:\n",
        "\n",
        "str2=\"Pune\"\n",
        "print(\"Reversed string is: \",str2[-1::-1])      #Backward indexing is used here."
      ],
      "metadata": {
        "colab": {
          "base_uri": "https://localhost:8080/"
        },
        "id": "0IczW1TWzRxY",
        "outputId": "5345fbe3-328e-4460-c506-2ffb5ea248e0"
      },
      "execution_count": 16,
      "outputs": [
        {
          "output_type": "stream",
          "name": "stdout",
          "text": [
            "Reversed string is:  enuP\n"
          ]
        }
      ]
    },
    {
      "cell_type": "code",
      "source": [
        "#Que 4:\n",
        "\n",
        "str3=input(\"Enter string: \")\n",
        "if(str3==str3[::-1]):                       #Backward indexing is used to check.\n",
        "   print(\"The letter is a palindrome\")\n",
        "else:\n",
        "      print(\"The letter is not a palindrome\")"
      ],
      "metadata": {
        "colab": {
          "base_uri": "https://localhost:8080/"
        },
        "id": "VHtg_mVcz6h_",
        "outputId": "be9bf4bc-31d8-4a01-c3e5-6df5347ff8f3"
      },
      "execution_count": 18,
      "outputs": [
        {
          "output_type": "stream",
          "name": "stdout",
          "text": [
            "Enter string: madam\n",
            "The letter is a palindrome\n"
          ]
        }
      ]
    },
    {
      "cell_type": "code",
      "source": [
        "#Que 5:\n",
        "\n",
        "str4=\"PW Skills\"\n",
        "str4=str4.replace(\" \",\"\")\n",
        "print(\"After removing white spaces: \",str4)\n"
      ],
      "metadata": {
        "colab": {
          "base_uri": "https://localhost:8080/"
        },
        "id": "TYRdmBlg4lYI",
        "outputId": "688cc599-640e-458c-df7c-79a86136f474"
      },
      "execution_count": 19,
      "outputs": [
        {
          "output_type": "stream",
          "name": "stdout",
          "text": [
            "After removing white spaces:  PWSkills\n"
          ]
        }
      ]
    }
  ]
}